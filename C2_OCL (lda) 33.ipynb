{
 "cells": [
  {
   "cell_type": "code",
   "execution_count": 1,
   "metadata": {
    "id": "SOcz7W1h-Wyz"
   },
   "outputs": [],
   "source": [
    "import numpy as np\n",
    "import pandas as pd\n",
    "import matplotlib.pyplot as plt\n",
    "import seaborn as sns\n",
    "from scipy.linalg import block_diag\n",
    "from numpy.linalg import multi_dot\n",
    "from scipy.linalg import sqrtm\n",
    "from scipy.sparse import csgraph\n",
    "import os"
   ]
  },
  {
   "cell_type": "code",
   "execution_count": 2,
   "metadata": {
    "id": "G7aA1kJx-rXQ"
   },
   "outputs": [],
   "source": [
    "N_TRIAL = 30000\n",
    "N_ARMS = 100\n",
    "K = 3\n",
    "N_FEATURE = 3\n",
    "M = 33"
   ]
  },
  {
   "cell_type": "code",
   "execution_count": 3,
   "metadata": {
    "colab": {
     "base_uri": "https://localhost:8080/"
    },
    "id": "8GwkTAHRSg1S",
    "outputId": "1733472f-2ad0-4d47-b17c-2e6969d31c80"
   },
   "outputs": [],
   "source": [
    "Y_2 = np.genfromtxt(r'C:\\Users\\ARTY\\Desktop\\jupyter lab\\case2\\poly2_Y_all.csv',delimiter=',', skip_header=1)\n",
    "W = np.genfromtxt(r'C:\\Users\\ARTY\\Desktop\\jupyter lab\\case2\\poly2_W.csv',delimiter=',', skip_header=1)"
   ]
  },
  {
   "cell_type": "code",
   "execution_count": 4,
   "metadata": {},
   "outputs": [],
   "source": [
    "# Initialize q and C\n",
    "# vec_q: q (Kp x 1)\n",
    "np.random.seed(3) #3 #59\n",
    "vec_q = np.array([np.random.rand() for _ in range(K * N_FEATURE)])\n",
    "# vec_C: C (NK x 1)\n",
    "np.random.seed(42)\n",
    "vec_C = np.array([np.random.rand() for _ in range(N_ARMS * N_FEATURE)])"
   ]
  },
  {
   "cell_type": "code",
   "execution_count": 5,
   "metadata": {},
   "outputs": [],
   "source": [
    "def plot_rewards(results):\n",
    "    [plt.plot(x['c_payoff']/33, label=\"alpha: \"+str(alpha)) for (alpha, x) in results.items()]\n",
    "def plot_regrets(results, oracle):\n",
    "    [plt.plot(make_regret(payoff=x['r_payoff'], oracle=oracle), label=\"alpha: \"+str(alpha)) for (alpha, x) in results.items()]\n",
    "\n",
    "def make_regret(payoff, oracle):\n",
    "    return np.cumsum(oracle - payoff)\n"
   ]
  },
  {
   "cell_type": "code",
   "execution_count": 6,
   "metadata": {
    "id": "PpPhWIWkDgji"
   },
   "outputs": [],
   "source": [
    "# X transformation from a sparse matrix\n",
    "def X_reshape(X, X_tr, t, K, n_arms, n_feature):  #\n",
    "  for arm in range(1, n_arms):\n",
    "    X_tr = np.concatenate((X_tr,np.kron(np.identity(n = K),X[arm].reshape(-1,1))), axis = 1)\n",
    "  return X_tr\n",
    "\n",
    "# convert to a sparse matrix\n",
    "def X_to_X_m(X, t, arm_choice, n_arms, n_feature):\n",
    "  X_m = np.copy(X[t])\n",
    "  for arm in np.arange(n_arms): # N x p\n",
    "    if arm not in arm_choice:\n",
    "      X_m[arm] = np.zeros(shape=n_feature)\n",
    "  return X_m"
   ]
  },
  {
   "cell_type": "code",
   "execution_count": 7,
   "metadata": {},
   "outputs": [],
   "source": [
    "# Create the F matrix\n",
    "def constructAdjMatrix(W, n, threshold): #m\n",
    "    Adj_mat = np.zeros(shape = (n, n))\n",
    "    for ui in range(n):\n",
    "        for uj in range(n):\n",
    "            Adj_mat[ui][uj] = W[ui][uj]\n",
    "        # trim the graph\n",
    "            for i in range(n):\n",
    "                if W[ui][i] <= threshold:\n",
    "                    Adj_mat[ui][i] = 0;\n",
    "#         Adj_mat[ui] /= sum(Adj_mat[ui])\n",
    "    return Adj_mat\n",
    "def constructLaplacianMatrix(W, n, Gepsilon):\n",
    "    G = W.copy()\n",
    "    #Convert adjacency matrix of weighted graph to adjacency matrix of unweighted graph\n",
    "    for i in range(n):\n",
    "        for j in range(n):\n",
    "            if G[i][j] > 0:\n",
    "                G[i][j] = 1\n",
    "    L = csgraph.laplacian(G, normed = False)\n",
    "    I = np.identity(n = G.shape[0])\n",
    "    GW = I + Gepsilon*L  # W is a double stochastic matrix\n",
    "    return GW.T"
   ]
  },
  {
   "cell_type": "code",
   "execution_count": 8,
   "metadata": {},
   "outputs": [],
   "source": [
    "# Create the F matrix\n",
    "lda = 1\n",
    "threshold = 0.5\n",
    "test_adj = constructAdjMatrix(W, N_ARMS, threshold)\n",
    "test_F = constructLaplacianMatrix(test_adj, N_ARMS, lda)\n",
    "# F_kron = np.kron(test_F, np.identity(n=K))\n",
    "FInv_Init = sqrtm(np.linalg.inv(np.kron(test_F, np.identity(n=K))))"
   ]
  },
  {
   "cell_type": "code",
   "execution_count": 9,
   "metadata": {
    "id": "dTLVpSzg45Id"
   },
   "outputs": [],
   "source": [
    "#eta_1, eta_2, lambda = tuning param.\n",
    "#alpha_q, alpha_c = exploration parameters for q and C\n",
    "#X = feature matrix\n",
    "#Y = true reward matrix\n",
    "#F = the sum of the identity matrix (N x N) and the laplacian matrix E\n",
    "#FInv = The inverse of the sqrt of the kronecker product between the F and the identity matrix (K x K)\n",
    "#m = number of selected arms\n",
    "#K = number of latent structures\n",
    "\n",
    "def CoCoUCB(eta_1, eta_2, alpha_q, alpha_c, X, Y, init_q, init_c, m, K, FInv, X_to_X_m, X_reshape):\n",
    "    print(\"CoCoUCB with eta_1:\", eta_1, \"eta_2:\", eta_2, \"alpha_q:\", alpha_q, \"alpha_c:\", alpha_c)\n",
    "    n_trial, n_arms, n_feature = X.shape\n",
    "    #n_arms = N | n_trial = t | n_features = p | K\n",
    "\n",
    "    # 1. Initialize objects\n",
    "    # 1.1. Output objects                     \n",
    "    arm_choice = np.empty(shape=(n_trial, m), dtype=int)\n",
    "    r_payoff = np.empty(n_trial)   \n",
    "    c_payoff = np.empty(n_trial) \n",
    "    p = np.empty(shape=(n_trial, n_arms)) \n",
    "    acc = np.empty(shape=(n_trial, n_arms))\n",
    "    \n",
    "    theta_lst = np.empty(shape=(n_trial, n_arms * n_feature))\n",
    "    C_lst = np.empty(shape=(n_trial, n_arms * K))\n",
    "    q_lst = np.empty(shape=(n_trial, K * n_feature))\n",
    "\n",
    "    \n",
    "    # 1.2. Intialize q and C_tilde\n",
    "    q = np.empty(shape = (n_trial + 1, K * n_feature)) #Kp x 1\n",
    "    C_tilde = np.empty(shape = (n_trial + 1, n_arms * K)) #NK x 1\n",
    "    q[0] = init_q\n",
    "    C_tilde[0] = init_c\n",
    "    \n",
    "    # 1.4. A, b, D, d\n",
    "    A = eta_1 * np.identity(n = K * n_feature) #Kp x Kp\n",
    "    b = np.zeros(shape=K * n_feature)          #Kp x 1\n",
    "    D = eta_2 * np.identity(n = n_arms * K)    #NK x NK\n",
    "    d = np.zeros(shape=n_arms * K)             #NK x 1\n",
    "    inv_A = np.linalg.inv(A)\n",
    "    inv_D = np.linalg.inv(D)\n",
    "    \n",
    "    # 2. Algorithm\n",
    "    for t in np.arange(n_trial):\n",
    "        for a in np.arange(n_arms):\n",
    "            \n",
    "          #x_tr for q case \n",
    "          X_temp = X_to_X_m(X, t, [a], n_arms, n_feature)    \n",
    "          X_tr_init = np.kron(np.identity(n = K),X_temp[0].reshape(-1,1))\n",
    "          X_tr = X_reshape(X_temp, X_tr_init, t, K, n_arms, n_feature) #Kp x NK \n",
    "          \n",
    "          #x_tr for c case\n",
    "          X_tilde = FInv.dot(X_to_X_m(X, t, [a], n_arms, n_feature).flatten()) #Np x 1\n",
    "          q_block = (block_diag(*[q[t].reshape((K, n_feature)) for _ in np.arange(n_arms)])).T #Np x NK  \n",
    "        \n",
    "          #Calculate cb_q and cb_c\n",
    "          #cb_q  \n",
    "          X_q_a = X_tr.dot(FInv.dot(C_tilde[t]))\n",
    "          cb_q = alpha_q * np.sqrt(X_q_a.T.dot(inv_A).dot(X_q_a))\n",
    "        \n",
    "          #cb_c\n",
    "          X_c = q_block.T.dot(X_tilde)\n",
    "          cb_c = alpha_c * np.sqrt((X_c).T.dot(inv_D).dot(X_c))\n",
    "        \n",
    "          #Predictions\n",
    "          p[t, a] = (FInv.dot(C_tilde[t]).T).dot(X_tr.T).dot(q[t]) + cb_q + cb_c\n",
    "          acc[t, a]   = p[t, a] - Y[t, a]\n",
    "        # Choose m best arms\n",
    "        chosen_arms = p[t].argsort()[-m:][::-1]\n",
    "        for i in np.arange(m):\n",
    "          arm_choice[t][i] = chosen_arms[i]\n",
    "        \n",
    "        #Update A, b, D, d for each selected arm\n",
    "        for chosen_arm in arm_choice[t]:\n",
    "\n",
    "          #X transformations\n",
    "          #x_tr for q case\n",
    "          X_tr_chosen_temp = X_to_X_m(X, t, [chosen_arm], n_arms, n_feature)\n",
    "          X_tr_init_cs = np.kron(np.identity(n = K),X_tr_chosen_temp[0].reshape(-1,1))\n",
    "          X_1_tr_chosen =  X_reshape(X_tr_chosen_temp, X_tr_init_cs, t, K, n_arms, n_feature)\n",
    "            \n",
    "          #x_tr for c case\n",
    "          X_tilde_chosen = FInv.dot(X_to_X_m(X, t, [chosen_arm], n_arms, n_feature).flatten())\n",
    "          q_block_chosen = (block_diag(*[q[t].reshape((K, n_feature)) for _ in np.arange(n_arms)])).T\n",
    "            \n",
    "          #Update  \n",
    "          X_q = FInv.dot(C_tilde[t]).dot(X_1_tr_chosen.T)\n",
    "          X_C_Tilde = q_block_chosen.T.dot(X_tilde_chosen)\n",
    "          A = A + np.outer(X_q, X_q)\n",
    "          b = b + Y[t, chosen_arm] * X_q\n",
    "          D = D + np.outer(X_C_Tilde, X_C_Tilde)           \n",
    "          d = d + Y[t, chosen_arm] * X_C_Tilde\n",
    "        \n",
    "        #inverse calculation\n",
    "        inv_A = np.linalg.inv(A)\n",
    "        inv_D = np.linalg.inv(D)\n",
    "        q[t + 1] = inv_A.dot(b)\n",
    "        C_tilde[t + 1] = inv_D.dot(d)\n",
    "        \n",
    "        #just for recording data\n",
    "        q_lst[t] = q[t + 1]\n",
    "        C_lst[t] = C_tilde[t + 1]\n",
    "        theta_lst[t] = ((q[t + 1].reshape(n_feature, K)).dot(C_tilde[t + 1].reshape(K,n_arms)).flatten())\n",
    "                \n",
    "        # Cumulative rewards\n",
    "        if t == 0:\n",
    "            c_payoff[t] = np.sum([Y[t, choice] for choice in arm_choice[t]])\n",
    "        else:\n",
    "            c_payoff[t]   = c_payoff[t-1] + np.sum([Y[t, choice] for choice in arm_choice[t]])\n",
    "        r_payoff[t]   = np.sum([Y[t, choice] for choice in arm_choice[t]])\n",
    "        \n",
    "        if (t+1) % 1000 == 0:\n",
    "            print('TRIAL:',t,'DONE', '| arm selected:', chosen_arms)\n",
    "    return dict(theta_lst=theta_lst, q_lst=q_lst, C_lst=C_lst, q = q, C_tilde = C_tilde, p = p, arm_choice = arm_choice, r_payoff = r_payoff, c_payoff = c_payoff, acc=acc)"
   ]
  },
  {
   "cell_type": "code",
   "execution_count": 10,
   "metadata": {
    "id": "oVuK0D6fTkT5"
   },
   "outputs": [],
   "source": [
    "# Create X_i = [1, t, t^2]\n",
    "X_2_lst = []\n",
    "for T in np.arange(N_TRIAL):\n",
    "  X_2t_lst = []\n",
    "  for arm in np.arange(N_ARMS):\n",
    "    temp = []\n",
    "    temp.append(1)\n",
    "    temp.append(0.001*(T+1))\n",
    "    temp.append((0.001*(T+1))**2)\n",
    "    X_2t_lst.append(np.array(temp))\n",
    "  X_2_lst.append(np.array(X_2t_lst))\n",
    "X_2 = np.array(X_2_lst)"
   ]
  },
  {
   "cell_type": "code",
   "execution_count": 11,
   "metadata": {
    "colab": {
     "base_uri": "https://localhost:8080/"
    },
    "id": "-jkBZ0zI5KS4",
    "outputId": "344ecdf3-3f84-4094-fab2-5cabe152d6b6"
   },
   "outputs": [
    {
     "name": "stdout",
     "output_type": "stream",
     "text": [
      "CoCoUCB with eta_1: 0.3 eta_2: 0.1 alpha_q: 4 alpha_c: 4\n",
      "TRIAL: 999 DONE | arm selected: [82 91 90 86 75 70 72 96 92 67 79 77 88 69 87 83 73 85 68 78 95 99 76 74\n",
      " 71 98 84 47 57 97 80 89 81]\n",
      "TRIAL: 1999 DONE | arm selected: [82 90 91 75 86 73 72 70 96 69 88 67 79 92 77 83 85 87 68 95 99 74 78 84\n",
      " 71 76 80 98 81 97 89 57 50]\n",
      "TRIAL: 2999 DONE | arm selected: [82 90 91 75 73 86 72 70 96 69 88 67 79 85 92 83 95 68 77 74 99 87 84 78\n",
      " 80 81 71 98 76 97 89 57 94]\n",
      "TRIAL: 3999 DONE | arm selected: [90 82 75 91 73 72 86 96 69 70 88 67 85 79 95 83 74 68 92 99 77 84 87 81\n",
      " 80 78 71 98 89 97 76 93 57]\n",
      "TRIAL: 4999 DONE | arm selected: [90 82 75 91 73 72 96 86 69 88 70 85 95 74 67 79 83 68 99 84 92 81 77 80\n",
      " 87 78 71 98 89 97 93 76 51]\n",
      "TRIAL: 5999 DONE | arm selected: [90 82 73 75 91 72 96 69 86 88 70 85 74 95 79 67 83 68 99 84 81 80 92 77\n",
      " 87 78 71 89 98 97 93 51 76]\n",
      "TRIAL: 6999 DONE | arm selected: [90 82 73 75 91 72 96 69 86 88 70 74 85 95 84 99 83 68 79 67 81 80 92 77\n",
      " 87 71 89 78 93 98 97 51 76]\n",
      "TRIAL: 7999 DONE | arm selected: [90 82 73 75 91 72 96 69 88 86 74 70 85 95 84 99 83 68 79 81 80 67 92 77\n",
      " 87 93 89 71 78 98 97 51 76]\n",
      "TRIAL: 8999 DONE | arm selected: [90 82 73 75 91 72 69 96 88 86 74 95 85 70 84 99 83 81 80 68 79 67 92 93\n",
      " 77 89 87 71 78 98 97 51 76]\n",
      "TRIAL: 9999 DONE | arm selected: [90 82 73 75 91 72 69 96 88 86 74 95 85 70 84 99 81 80 83 68 79 67 93 92\n",
      " 89 77 87 71 97 98 78 51 76]\n",
      "TRIAL: 10999 DONE | arm selected: [90 73 82 75 91 72 69 96 88 74 86 95 85 70 84 99 80 81 83 68 79 67 93 89\n",
      " 92 77 71 87 97 98 78 51 76]\n",
      "TRIAL: 11999 DONE | arm selected: [90 73 82 75 91 72 69 96 88 74 95 85 86 84 70 99 80 81 83 68 79 67 93 89\n",
      " 92 71 77 87 97 98 78 76 51]\n",
      "TRIAL: 12999 DONE | arm selected: [90 73 82 75 91 72 69 96 88 74 95 85 86 84 80 99 81 70 83 68 79 67 93 89\n",
      " 92 71 77 97 98 87 76 78 51]\n",
      "TRIAL: 13999 DONE | arm selected: [90 73 82 75 91 69 72 96 88 74 95 85 86 84 80 99 81 70 83 68 79 93 67 89\n",
      " 71 92 76 97 98 77 87 78 51]\n",
      "TRIAL: 14999 DONE | arm selected: [90 73 82 75 91 69 72 96 88 74 95 85 86 80 84 99 81 70 83 79 93 68 67 89\n",
      " 76 71 92 97 98 77 87 78 51]\n",
      "TRIAL: 15999 DONE | arm selected: [90 73 82 75 91 69 72 96 88 74 95 85 80 86 84 99 81 70 83 93 79 68 67 89\n",
      " 76 71 92 97 98 77 87 78 51]\n",
      "TRIAL: 16999 DONE | arm selected: [90 73 82 75 91 69 72 96 88 74 95 85 80 84 86 99 81 70 83 93 79 68 67 89\n",
      " 76 71 97 92 98 87 77 78 51]\n",
      "TRIAL: 17999 DONE | arm selected: [90 73 82 75 91 69 72 96 88 74 95 85 80 84 99 86 81 93 70 83 79 68 76 67\n",
      " 89 71 97 98 92 87 77 78 51]\n",
      "TRIAL: 18999 DONE | arm selected: [90 73 82 75 91 69 72 96 88 74 95 85 80 99 84 86 81 93 83 70 76 79 68 89\n",
      " 67 71 97 98 92 87 77 78 51]\n",
      "TRIAL: 19999 DONE | arm selected: [90 73 82 75 91 69 72 96 88 74 95 85 80 99 84 86 81 93 76 83 70 79 68 89\n",
      " 67 71 98 97 92 87 77 78 51]\n",
      "TRIAL: 20999 DONE | arm selected: [90 73 82 75 91 69 72 96 88 74 95 85 80 99 84 86 93 81 76 83 70 79 89 68\n",
      " 67 71 98 97 92 87 77 78 51]\n",
      "TRIAL: 21999 DONE | arm selected: [90 73 82 75 91 69 72 96 88 74 95 85 80 99 84 76 93 86 81 83 70 79 89 68\n",
      " 67 71 98 97 92 87 77 78 51]\n",
      "TRIAL: 22999 DONE | arm selected: [90 73 82 75 91 69 72 96 88 74 95 85 80 76 99 93 84 81 86 83 70 79 89 67\n",
      " 68 71 98 97 92 87 77 78 51]\n",
      "TRIAL: 23999 DONE | arm selected: [90 73 82 75 91 69 72 96 88 74 95 85 80 76 99 93 84 81 86 83 70 89 79 67\n",
      " 68 71 98 97 92 87 77 78 51]\n",
      "TRIAL: 24999 DONE | arm selected: [90 73 82 75 91 69 72 96 88 74 95 85 76 80 99 93 84 81 86 83 70 89 79 67\n",
      " 68 71 98 97 92 87 77 78 94]\n",
      "TRIAL: 25999 DONE | arm selected: [90 73 82 75 91 69 72 96 88 74 76 95 85 80 99 93 84 81 86 83 89 70 79 67\n",
      " 68 71 98 97 92 87 77 78 35]\n",
      "TRIAL: 26999 DONE | arm selected: [90 73 82 91 75 69 72 96 88 74 76 95 85 80 99 93 84 81 86 83 89 70 79 67\n",
      " 68 71 98 97 92 87 77 78 35]\n",
      "TRIAL: 27999 DONE | arm selected: [90 73 82 91 75 69 72 96 88 74 76 95 85 80 93 99 84 86 81 83 89 70 79 67\n",
      " 68 71 98 97 92 87 77 78 35]\n",
      "TRIAL: 28999 DONE | arm selected: [90 91 73 69 82 75 72 96 88 76 74 95 85 80 93 99 84 86 81 83 89 70 79 67\n",
      " 71 68 98 97 92 87 77 78 35]\n",
      "TRIAL: 29999 DONE | arm selected: [90 69 91 82 75 73 72 96 88 76 74 95 85 80 93 99 84 86 81 83 89 79 70 67\n",
      " 71 68 98 97 92 87 77 78 35]\n"
     ]
    }
   ],
   "source": [
    "alpha_to_test = [4]\n",
    "results_dict = {alpha: CoCoUCB(eta_1 = 0.3, eta_2 = 0.1, alpha_q = 4, alpha_c = alpha, X=X_2, Y=Y_2.T, init_q=vec_q, init_c=vec_C,m=M, K = K, FInv=FInv_Init, X_to_X_m=X_to_X_m, X_reshape=X_reshape)\\\n",
    "                for alpha in alpha_to_test}"
   ]
  },
  {
   "cell_type": "code",
   "execution_count": 12,
   "metadata": {
    "colab": {
     "base_uri": "https://localhost:8080/",
     "height": 472
    },
    "id": "d1PvUTtt6J-P",
    "outputId": "7a23108d-284d-439a-da2c-bb3bcc308274"
   },
   "outputs": [
    {
     "data": {
      "image/png": "[encoded data removed]",
      "text/plain": [
       "<Figure size 900x540 with 1 Axes>"
      ]
     },
     "metadata": {
      "needs_background": "light"
     },
     "output_type": "display_data"
    }
   ],
   "source": [
    "# Plot rewards\n",
    "plt.figure(figsize=(12.5, 7.5))\n",
    "plot_rewards(results_dict)\n",
    "plt.legend()\n",
    "plt.title(\"Rewards for various levels of alpha\")\n",
    "plt.show()"
   ]
  },
  {
   "cell_type": "code",
   "execution_count": 13,
   "metadata": {},
   "outputs": [
    {
     "name": "stdout",
     "output_type": "stream",
     "text": [
      "TRIAL: 999 DONE | arm selected: [82 90 91 75 86 70 72 96 67 92 79 73 88 69 77 87 83 85 68 99 95 78 76 74\n",
      " 71 98 84 80 81 97 47 57 89]\n",
      "TRIAL: 1999 DONE | arm selected: [82 90 91 75 86 70 72 73 96 69 88 67 92 79 77 85 83 87 68 95 99 74 78 84\n",
      " 71 76 80 98 81 97 89 57 47]\n",
      "TRIAL: 2999 DONE | arm selected: [82 90 91 75 73 86 72 70 96 69 88 67 79 92 85 83 95 77 68 99 74 87 84 78\n",
      " 80 81 71 98 76 97 89 57 94]\n",
      "TRIAL: 3999 DONE | arm selected: [90 82 75 91 73 72 86 96 69 70 88 67 85 79 95 83 74 68 92 99 77 84 87 81\n",
      " 80 78 71 98 89 97 76 93 57]\n",
      "TRIAL: 4999 DONE | arm selected: [90 82 75 91 73 72 86 96 69 70 88 85 95 67 74 79 83 68 99 92 84 77 81 80\n",
      " 87 78 71 98 89 97 93 76 57]\n",
      "TRIAL: 5999 DONE | arm selected: [90 82 75 73 91 72 96 69 86 88 70 85 74 95 67 79 99 83 68 84 81 80 92 77\n",
      " 87 78 71 89 98 97 93 76 51]\n",
      "TRIAL: 6999 DONE | arm selected: [90 82 73 75 91 72 96 69 86 88 70 74 85 95 99 84 83 68 79 67 81 80 92 77\n",
      " 87 71 89 78 93 98 97 76 51]\n",
      "TRIAL: 7999 DONE | arm selected: [90 82 73 75 91 72 96 69 88 86 70 74 95 85 84 99 83 68 79 81 80 67 92 77\n",
      " 87 93 89 71 78 98 97 76 51]\n",
      "TRIAL: 8999 DONE | arm selected: [90 82 73 75 91 72 69 96 88 86 74 95 85 70 84 99 80 81 83 68 79 67 92 93\n",
      " 77 89 87 71 98 97 78 76 51]\n",
      "TRIAL: 9999 DONE | arm selected: [90 82 73 75 91 72 69 96 88 86 74 95 85 70 84 99 80 81 83 68 79 67 93 92\n",
      " 89 77 87 71 98 97 78 76 51]\n",
      "TRIAL: 10999 DONE | arm selected: [90 82 73 75 91 72 69 96 88 74 86 95 85 70 84 99 80 81 83 68 79 67 93 89\n",
      " 92 77 71 87 97 98 78 76 51]\n",
      "TRIAL: 11999 DONE | arm selected: [90 73 82 75 91 72 69 96 88 74 95 86 85 84 70 80 99 81 83 68 79 67 93 89\n",
      " 92 71 77 87 97 98 76 78 51]\n",
      "TRIAL: 12999 DONE | arm selected: [90 73 82 75 91 72 69 96 88 74 95 85 86 84 80 99 70 81 83 68 79 67 93 89\n",
      " 92 71 77 76 97 87 98 78 51]\n",
      "TRIAL: 13999 DONE | arm selected: [90 73 82 75 91 69 72 96 88 74 95 85 86 80 84 99 81 70 83 68 79 93 67 89\n",
      " 76 92 71 97 98 77 87 78 51]\n",
      "TRIAL: 14999 DONE | arm selected: [90 73 82 75 91 69 72 96 88 74 95 85 86 80 84 99 81 70 83 93 68 79 67 89\n",
      " 76 71 92 97 98 77 87 78 51]\n",
      "TRIAL: 15999 DONE | arm selected: [90 73 82 75 91 69 72 96 88 74 95 85 80 86 84 99 81 70 83 93 68 79 67 89\n",
      " 76 71 92 97 98 77 87 78 51]\n",
      "TRIAL: 16999 DONE | arm selected: [90 73 82 75 91 69 72 96 88 74 95 85 80 86 84 99 81 70 93 83 79 68 67 76\n",
      " 89 71 92 97 98 87 77 78 51]\n",
      "TRIAL: 17999 DONE | arm selected: [90 73 82 75 91 69 72 96 88 74 95 85 80 99 84 86 81 93 70 83 79 68 76 67\n",
      " 89 71 97 98 92 87 77 78 51]\n",
      "TRIAL: 18999 DONE | arm selected: [90 73 82 75 91 69 72 96 88 74 95 85 80 99 84 86 81 93 83 70 76 79 68 89\n",
      " 67 71 97 98 92 87 77 78 51]\n",
      "TRIAL: 19999 DONE | arm selected: [90 73 82 75 91 69 72 96 88 74 95 85 80 99 84 86 81 93 76 83 70 79 68 89\n",
      " 67 71 97 98 92 87 77 78 51]\n",
      "TRIAL: 20999 DONE | arm selected: [90 73 82 75 91 69 72 96 88 74 95 85 80 99 84 86 93 81 76 83 70 79 89 68\n",
      " 67 71 98 97 92 87 77 78 51]\n",
      "TRIAL: 21999 DONE | arm selected: [90 73 82 75 91 69 72 96 88 74 95 85 80 99 76 84 93 86 81 83 70 79 89 68\n",
      " 67 71 98 97 92 87 77 78 51]\n",
      "TRIAL: 22999 DONE | arm selected: [90 73 82 75 91 69 72 96 88 74 95 85 80 76 99 93 84 86 81 83 70 79 89 67\n",
      " 68 71 98 97 92 87 77 78 51]\n",
      "TRIAL: 23999 DONE | arm selected: [90 73 82 75 91 69 72 96 88 74 95 85 80 76 99 93 84 81 86 83 70 89 79 67\n",
      " 68 71 98 97 92 87 77 78 51]\n",
      "TRIAL: 24999 DONE | arm selected: [90 73 82 75 91 69 72 96 88 74 95 85 76 80 99 93 84 81 86 83 70 89 79 67\n",
      " 68 71 98 97 92 87 77 78 51]\n",
      "TRIAL: 25999 DONE | arm selected: [90 73 82 75 91 69 72 96 88 74 76 95 85 80 99 93 84 81 86 83 89 70 79 67\n",
      " 68 71 98 97 92 87 77 78 35]\n",
      "TRIAL: 26999 DONE | arm selected: [90 73 82 91 75 69 72 96 88 74 76 95 85 80 99 93 84 86 81 83 89 70 79 67\n",
      " 68 71 98 97 92 87 77 78 35]\n",
      "TRIAL: 27999 DONE | arm selected: [90 73 82 91 75 69 72 96 88 74 76 95 85 80 93 99 84 86 81 83 89 70 79 67\n",
      " 68 71 98 97 92 87 77 78 35]\n",
      "TRIAL: 28999 DONE | arm selected: [90 91 69 82 73 75 72 96 88 76 74 95 85 80 93 99 84 86 81 83 89 70 79 67\n",
      " 71 68 98 97 92 87 77 78 35]\n",
      "TRIAL: 29999 DONE | arm selected: [90 69 91 82 75 73 72 96 88 76 74 95 85 80 93 99 84 86 81 83 89 70 79 67\n",
      " 71 68 98 97 92 87 77 78 35]\n"
     ]
    }
   ],
   "source": [
    "oracle_lst = []\n",
    "true_choice = []\n",
    "new_y = Y_2 #\n",
    "for t in np.arange(N_TRIAL):\n",
    "  # Find indices of M highest arms\n",
    "  all_reward_t = [new_y.T[t, arm] for arm in np.arange(N_ARMS)]\n",
    "  chosen_arms = np.array(all_reward_t).argsort()[-M:][::-1]\n",
    "\n",
    "  # Sum of M highest rewards\n",
    "  oracle_payoff_t = np.sum([new_y.T[t, choice] for choice in chosen_arms])\n",
    "  # Append to the list\n",
    "  oracle_lst.append(oracle_payoff_t)\n",
    "  true_choice.append(chosen_arms)\n",
    "  if (t+1) % 1000 == 0:\n",
    "    print('TRIAL:',t,'DONE', '| arm selected:', chosen_arms)\n",
    "oracle_case1 = np.array(oracle_lst)"
   ]
  },
  {
   "cell_type": "code",
   "execution_count": 14,
   "metadata": {},
   "outputs": [
    {
     "data": {
      "image/png": "[encoded data removed]",
      "text/plain": [
       "<Figure size 900x540 with 1 Axes>"
      ]
     },
     "metadata": {
      "needs_background": "light"
     },
     "output_type": "display_data"
    }
   ],
   "source": [
    "#regret\n",
    "# Plot regrets\n",
    "plt.figure(figsize=(12.5, 7.5))\n",
    "plot_regrets(results_dict, oracle_case1)\n",
    "plt.legend()\n",
    "plt.title(\"Regrets for various levels of alpha\")\n",
    "plt.show()"
   ]
  },
  {
   "cell_type": "code",
   "execution_count": 15,
   "metadata": {},
   "outputs": [],
   "source": [
    "# reward data\n",
    "# test_lst = [x['c_payoff'] for (alpha, x) in results_dict.items()]\n",
    "# df = pd.DataFrame(test_lst[0]) #index 4 is for alpha = 10 \n",
    "# df.to_csv('C2_COCOlda5_reward(new).csv', header=False)"
   ]
  },
  {
   "cell_type": "code",
   "execution_count": 18,
   "metadata": {},
   "outputs": [],
   "source": [
    "# regret data\n",
    "# test_lst = [make_regret(payoff=x['r_payoff'], oracle=oracle_case1) for (alpha, x) in results_dict.items()]\n",
    "# df = pd.DataFrame(test_lst[0]) #index 4 is for alpha = 10 \n",
    "# df.to_csv('C2_COCOlda_poly2.csv', header=False)"
   ]
  },
  {
   "cell_type": "code",
   "execution_count": null,
   "metadata": {},
   "outputs": [],
   "source": []
  }
 ],
 "metadata": {
  "colab": {
   "collapsed_sections": [],
   "name": "Collaborative combinatorial bandit (test3 init).ipynb",
   "provenance": []
  },
  "kernelspec": {
   "display_name": "Python 3 (ipykernel)",
   "language": "python",
   "name": "python3"
  },
  "language_info": {
   "codemirror_mode": {
    "name": "ipython",
    "version": 3
   },
   "file_extension": ".py",
   "mimetype": "text/x-python",
   "name": "python",
   "nbconvert_exporter": "python",
   "pygments_lexer": "ipython3",
   "version": "3.7.4"
  }
 },
 "nbformat": 4,
 "nbformat_minor": 4
}
