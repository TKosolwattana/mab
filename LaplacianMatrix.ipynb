{
 "cells": [
  {
   "cell_type": "code",
   "execution_count": 1,
   "metadata": {},
   "outputs": [],
   "source": [
    "import numpy as np\n",
    "import pandas as pd\n",
    "import matplotlib.pyplot as plt\n",
    "import seaborn as sns\n",
    "from scipy.linalg import sqrtm\n",
    "from scipy.sparse import csgraph"
   ]
  },
  {
   "cell_type": "code",
   "execution_count": 2,
   "metadata": {},
   "outputs": [],
   "source": [
    "N_TRIAL = 30000\n",
    "N_ARMS = 100\n",
    "N_FEATURE = 3\n",
    "M = 4\n",
    "np.random.seed(123)"
   ]
  },
  {
   "cell_type": "code",
   "execution_count": 3,
   "metadata": {},
   "outputs": [],
   "source": [
    "W = np.genfromtxt('W.csv',delimiter=',')"
   ]
  },
  {
   "cell_type": "code",
   "execution_count": 4,
   "metadata": {},
   "outputs": [],
   "source": [
    "# Create the Adj matrix\n",
    "def constructAdjMatrix(W, n, threshold): #m\n",
    "    Adj_mat = np.zeros(shape = (n, n))\n",
    "    for ui in range(n):\n",
    "        for uj in range(n):\n",
    "            Adj_mat[ui][uj] = W[ui][uj]\n",
    "        # find out the top M similar users in G -> find a threshold\n",
    "#         if m>0 and m<n:\n",
    "#             similarity = sorted(W[ui], reverse=True)\n",
    "#             threshold = similarity[m]\n",
    "        # trim the graph\n",
    "            for i in range(n):\n",
    "                if W[ui][i] <= threshold:\n",
    "                    Adj_mat[ui][i] = 0;\n",
    "        Adj_mat[ui] /= sum(Adj_mat[ui])\n",
    "    return Adj_mat\n",
    "\n",
    "# Create the laplacian matrix\n",
    "def constructLaplacianMatrix(W, n, Gepsilon):\n",
    "    G = W.copy()\n",
    "    #Convert adjacency matrix of weighted graph to adjacency matrix of unweighted graph\n",
    "    for i in range(n):\n",
    "        for j in range(n):\n",
    "            if G[i][j] > 0:\n",
    "                G[i][j] = 1\n",
    "    L = csgraph.laplacian(G, normed = False)\n",
    "    I = np.identity(n = G.shape[0])\n",
    "    GW = I + Gepsilon*L  # W is a double stochastic matrix\n",
    "    return GW.T"
   ]
  },
  {
   "cell_type": "code",
   "execution_count": 5,
   "metadata": {},
   "outputs": [],
   "source": [
    "# Create the F matrix\n",
    "lda = 1\n",
    "threshold = 0.5\n",
    "test_adj = constructAdjMatrix(W, N_ARMS, threshold)\n",
    "test_F = constructLaplacianMatrix(test_adj, N_ARMS, lda)\n",
    "F_kron = np.kron(test_F, np.identity(n=N_FEATURE))\n",
    "FInv_Init = sqrtm(np.linalg.inv(np.kron(test_F, np.identity(n=N_FEATURE))))"
   ]
  },
  {
   "cell_type": "code",
   "execution_count": 6,
   "metadata": {},
   "outputs": [
    {
     "data": {
      "text/plain": [
       "array([[ 1.93378283e-01+2.73691106e-48j, -6.72697549e-17-7.22223729e-35j,\n",
       "        -3.99702502e-17+1.20370622e-34j, ...,\n",
       "         1.44820277e-03+0.00000000e+00j, -2.07239911e-17+1.20370622e-35j,\n",
       "        -2.51963704e-17-1.80555932e-35j],\n",
       "       [-1.50018683e-17-4.37905770e-47j,  1.93378283e-01-5.42101086e-20j,\n",
       "        -9.54097912e-18-1.89735380e-19j, ...,\n",
       "        -3.74700272e-17-2.69630192e-33j,  1.44820277e-03+3.85185989e-33j,\n",
       "         4.42601001e-17-1.15555797e-33j],\n",
       "       [-2.24546128e-17+0.00000000e+00j, -1.49619900e-17+8.13151629e-20j,\n",
       "         1.93378283e-01+2.16840434e-19j, ...,\n",
       "         1.65654353e-17+6.16297582e-33j,  1.02795551e-17+1.23259516e-32j,\n",
       "         1.44820277e-03-1.09476443e-47j],\n",
       "       ...,\n",
       "       [ 1.44820277e-03-5.47382213e-48j, -3.06768504e-17-7.22223729e-35j,\n",
       "         1.62139200e-17-2.18952885e-47j, ...,\n",
       "         1.95829134e-01-4.33680869e-19j, -1.73472348e-17-2.73691106e-48j,\n",
       "        -3.25260652e-19+2.16840434e-19j],\n",
       "       [-2.95434795e-17+3.42113883e-49j,  1.44820277e-03-1.54074396e-33j,\n",
       "         1.58272234e-17-2.73691106e-48j, ...,\n",
       "        -1.73472348e-17+4.33680869e-19j,  1.95829134e-01-2.73691106e-48j,\n",
       "         1.84314369e-18+1.69406589e-19j],\n",
       "       [-2.51614068e-17+0.00000000e+00j,  3.91263252e-17-2.18952885e-47j,\n",
       "         1.44820277e-03-1.84889275e-32j, ...,\n",
       "        -3.68628739e-18-4.33680869e-19j,  1.11672824e-17-2.71050543e-20j,\n",
       "         1.95829134e-01+2.16840434e-19j]])"
      ]
     },
     "execution_count": 6,
     "metadata": {},
     "output_type": "execute_result"
    }
   ],
   "source": [
    "FInv_Init"
   ]
  }
 ],
 "metadata": {
  "kernelspec": {
   "display_name": "Python 3",
   "language": "python",
   "name": "python3"
  },
  "language_info": {
   "codemirror_mode": {
    "name": "ipython",
    "version": 3
   },
   "file_extension": ".py",
   "mimetype": "text/x-python",
   "name": "python",
   "nbconvert_exporter": "python",
   "pygments_lexer": "ipython3",
   "version": "3.7.4"
  }
 },
 "nbformat": 4,
 "nbformat_minor": 4
}
