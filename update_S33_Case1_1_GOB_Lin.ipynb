{
  "cells": [
    {
      "cell_type": "code",
      "execution_count": 1,
      "metadata": {
        "id": "SOcz7W1h-Wyz"
      },
      "outputs": [],
      "source": [
        "import numpy as np\n",
        "import pandas as pd\n",
        "import matplotlib.pyplot as plt\n",
        "import seaborn as sns\n",
        "from scipy.linalg import sqrtm\n",
        "from scipy.sparse import csgraph"
      ]
    },
    {
      "cell_type": "code",
      "execution_count": 2,
      "metadata": {
        "id": "G7aA1kJx-rXQ"
      },
      "outputs": [],
      "source": [
        "N_TRIAL = 30000\n",
        "N_ARMS = 100\n",
        "N_FEATURE = 3\n",
        "M = 33\n",
        "np.random.seed(123)"
      ]
    },
    {
      "cell_type": "code",
      "execution_count": 3,
      "metadata": {
        "id": "qQu_861PvLYP",
        "colab": {
          "base_uri": "https://localhost:8080/"
        },
        "outputId": "2eb4daef-3b2b-4649-ab5b-1b2d372204ff"
      },
      "outputs": [
        {
          "output_type": "stream",
          "name": "stdout",
          "text": [
            "Mounted at /content/drive\n"
          ]
        }
      ],
      "source": [
        "import os\n",
        "import pandas as pd\n",
        "from google.colab import drive\n",
        "drive.mount('/content/drive')\n",
        "\n",
        "Beta = np.genfromtxt('/content/drive/My Drive/Colab Notebooks/MAB/Beta(noise_rsc2).csv',delimiter=',')\n",
        "# X_1 = np.genfromtxt('/content/drive/My Drive/Colab Notebooks/MAB/X.csv',delimiter=',')\n",
        "Y_1 = np.genfromtxt('/content/drive/My Drive/Colab Notebooks/MAB/Y(noise_rsc2).csv',delimiter=',')\n",
        "W = np.genfromtxt('/content/drive/My Drive/Colab Notebooks/MAB/W(noise_rsc2).csv',delimiter=',')"
      ]
    },
    {
      "cell_type": "code",
      "execution_count": 4,
      "metadata": {
        "id": "tkY0ktFs7JFZ"
      },
      "outputs": [],
      "source": [
        "# create X\n",
        "X_1_lst = []\n",
        "for T in np.arange(N_TRIAL):\n",
        "  X_1t_lst = []\n",
        "  for arm in np.arange(N_ARMS):\n",
        "    temp = []\n",
        "    temp.append(1)\n",
        "    temp.append(0.001*(T+1))\n",
        "    temp.append((0.001*(T+1))**2)\n",
        "    X_1t_lst.append(np.array(temp))\n",
        "    # np.append(X_1, X_1t)\n",
        "  X_1_lst.append(np.array(X_1t_lst))\n",
        "X_1 = np.array(X_1_lst)"
      ]
    },
    {
      "cell_type": "code",
      "execution_count": 5,
      "metadata": {
        "id": "zpkmSWenzeKW"
      },
      "outputs": [],
      "source": [
        "oracle_lst = []\n",
        "true_choice = []\n",
        "new_y = -1 * Y_1 + 30\n",
        "for t in np.arange(N_TRIAL):\n",
        "  # Find indices of M highest arms\n",
        "  all_reward_t = [new_y.T[t, arm] for arm in np.arange(N_ARMS)]\n",
        "  chosen_arms = np.array(all_reward_t).argsort()[-M:][::-1]\n",
        "  # Sum of M highest rewards\n",
        "  oracle_payoff_t = np.sum([new_y.T[t, choice] for choice in chosen_arms])\n",
        "  # Append to the list\n",
        "  oracle_lst.append(oracle_payoff_t)\n",
        "  true_choice.append(chosen_arms)\n",
        "  # if (t+1) % 3000 == 0:\n",
        "  #   print('TRIAL:',t,'DONE', '| arm selected:', chosen_arms)\n",
        "oracle_case1 = np.array(oracle_lst)"
      ]
    },
    {
      "cell_type": "code",
      "execution_count": 6,
      "metadata": {
        "id": "lKJgORUMogNm"
      },
      "outputs": [],
      "source": [
        "# Create the Adj matrix\n",
        "def constructAdjMatrix(W, n, threshold): #m\n",
        "    Adj_mat = np.zeros(shape = (n, n))\n",
        "    for ui in range(n):\n",
        "        for uj in range(n):\n",
        "            Adj_mat[ui][uj] = W[ui][uj]\n",
        "        # find out the top M similar users in G -> find a threshold\n",
        "#         if m>0 and m<n:\n",
        "#             similarity = sorted(W[ui], reverse=True)\n",
        "#             threshold = similarity[m]\n",
        "        # trim the graph\n",
        "            for i in range(n):\n",
        "                if W[ui][i] <= threshold:\n",
        "                    Adj_mat[ui][i] = 0;\n",
        "        Adj_mat[ui] /= sum(Adj_mat[ui])\n",
        "    return Adj_mat\n",
        "\n",
        "# Create the laplacian matrix\n",
        "def constructLaplacianMatrix(W, n, Gepsilon):\n",
        "    G = W.copy()\n",
        "    #Convert adjacency matrix of weighted graph to adjacency matrix of unweighted graph\n",
        "    for i in range(n):\n",
        "        for j in range(n):\n",
        "            if G[i][j] > 0:\n",
        "                G[i][j] = 1\n",
        "    L = csgraph.laplacian(G, normed = False)\n",
        "    I = np.identity(n = G.shape[0])\n",
        "    GW = I + Gepsilon*L  # W is a double stochastic matrix\n",
        "    return GW.T"
      ]
    },
    {
      "cell_type": "code",
      "execution_count": 7,
      "metadata": {
        "id": "jYnR5QXctM2z"
      },
      "outputs": [],
      "source": [
        "# convert to a sparse matrix -> convert to a long sparse vector with flatten()\n",
        "def X_to_X_m(X, t, arm_choice, n_arms, n_feature): \n",
        "  X_m = np.copy(X[t])\n",
        "  for arm in np.arange(n_arms): # N x p\n",
        "    if arm not in arm_choice:\n",
        "      X_m[arm] = np.zeros(shape=n_feature)\n",
        "  return X_m"
      ]
    },
    {
      "cell_type": "code",
      "execution_count": 8,
      "metadata": {
        "id": "M7ghorvTogNq"
      },
      "outputs": [],
      "source": [
        "def plot_regrets(results, oracle):\n",
        "    [plt.plot(make_regret(payoff=x['r_payoff'], oracle=oracle), label=\"alpha: \"+str(alpha)) for (alpha, x) in results.items()]\n",
        "\n",
        "def make_regret(payoff, oracle):\n",
        "    return np.cumsum(oracle - payoff)"
      ]
    },
    {
      "cell_type": "code",
      "execution_count": 9,
      "metadata": {
        "id": "a6vUrCIPogNr"
      },
      "outputs": [],
      "source": [
        "def plot_l2_norm_diff(results, true_theta, n_trial, n_arms, n_feature, FInv_Init):\n",
        "    [plt.plot(make_l2_norm_diff(x['theta_lst'], true_theta, n_trial, n_arms, n_feature, FInv_Init), label=\"alpha: \"+str(alpha)) for (alpha, x) in results.items()]\n",
        "\n",
        "#normalized l2_norm_diff\n",
        "def make_l2_norm_diff(theta, true_theta, n_trial, n_arms, n_feature, FInv_Init):\n",
        "    diff = []\n",
        "    for t in range(n_trial):\n",
        "        theta_matrix = (FInv_Init.dot(theta[t])).reshape(n_arms, n_feature) #with FInv_Init\n",
        "#         theta_matrix = theta[t].reshape(n_arms, n_feature) #without FInv_Init\n",
        "        diff_t = 0\n",
        "        for arm in range(n_arms):\n",
        "            diff_vec = theta_matrix[arm] - (-true_theta[arm])\n",
        "            diff_t += np.linalg.norm(diff_vec, ord=2)\n",
        "        diff.append(diff_t)\n",
        "        # show the difference every 3000 iterations\n",
        "#         if (t+1) % 1000 == 0:\n",
        "#             print('TRIAL:', t+1 , 'diff:', diff_t)\n",
        "    return np.array(diff)"
      ]
    },
    {
      "cell_type": "code",
      "source": [
        "def GOBLin(alpha, eta, X, Y, m, FInv, oracle, min_cregret, true_choice):\n",
        "    print(\"GOB.Lin with alpha: \", alpha)\n",
        "    n_trial, n_arms, n_feature = X.shape\n",
        "    \n",
        "    # 1.1.output object\n",
        "    r_payoff = np.empty(n_trial)\n",
        "    c_payoff = np.empty(n_trial)\n",
        "    cum_regret = np.empty(n_trial)\n",
        "    t_break = 0\n",
        "    final_c_regret = 100000\n",
        "    arm_choice = np.empty(shape=(n_trial, m), dtype=int)\n",
        "    p = np.empty(shape=(n_trial, n_arms))\n",
        "    acc = np.empty(shape=(n_trial, n_arms))\n",
        "\n",
        "    pred_reward = np.empty(shape=(n_trial, n_arms)) \n",
        "    ucb = np.empty(shape=(n_trial, n_arms))\n",
        "    selected_pred = np.empty(n_trial)\n",
        "    opt_pred = np.empty(n_trial)  \n",
        "    selected_err = np.empty(n_trial)\n",
        "    opt_err = np.empty(n_trial)\n",
        "    opt_payoff = np.empty(n_trial)\n",
        "    mse_sel = np.empty(n_trial)\n",
        "    mse_opt = np.empty(n_trial)\n",
        "    # 1.2. A and b\n",
        "\n",
        "    A = eta * np.identity(n = n_feature * n_arms)   #dn x dn\n",
        "    b = np.zeros(shape=n_feature * n_arms)        #dn x 1\n",
        "    inv_A = np.linalg.inv(A)\n",
        "    theta_lst = np.empty(shape=(n_trial, n_arms *  n_feature))\n",
        "    theta = np.dot(inv_A, b)\n",
        "    \n",
        "    # 2. Algorithm\n",
        "      # theta = w\n",
        "      # A = M\n",
        "      # b = b\n",
        "      # p_t = k_t\n",
        "    for t in np.arange(n_trial):\n",
        "        \n",
        "        #Compute estimates (theta) and prediction (p) for all arms\n",
        "        for a in np.arange(n_arms):\n",
        "            X_1_tr = FInv.dot((X_to_X_m(X, t, [a], n_arms, n_feature)).flatten())\n",
        "            pred_reward[t, a] = theta.dot(X_1_tr)\n",
        "            ucb[t, a] = alpha * np.sqrt(np.dot(np.dot(X_1_tr, inv_A), X_1_tr))\n",
        "            p[t, a] =  pred_reward[t,a] + ucb[t,a] \n",
        "            #acc[t, a]   = p[t, a] - Y[t, a]\n",
        "        # Choose m best arms\n",
        "        idx = np.argpartition(p[t], -m)[-m:]\n",
        "        chosen_arms = idx[np.argsort(-(p[t])[idx])]\n",
        "        for i in np.arange(m):\n",
        "          arm_choice[t][i] = chosen_arms[i]\n",
        "        \n",
        "        #selected_pred[t] = sum([pred_reward[t, a] for a in chosen_arms])\n",
        "        #opt_pred[t] = sum([pred_reward[t, a] for a in true_choice[t]])\n",
        "\n",
        "        #update A and b\n",
        "        for chosen_arm in arm_choice[t]:\n",
        "          X_1_tr_chosen = FInv.dot((X_to_X_m(X, t, [chosen_arm], n_arms, n_feature)).flatten())\n",
        "          A = A + np.outer(X_1_tr_chosen, X_1_tr_chosen)\n",
        "          b = b + Y[t, chosen_arm] * X_1_tr_chosen\n",
        "        inv_A = np.linalg.inv(A)\n",
        "        theta = inv_A.dot(b)\n",
        "        theta_lst[t] = theta\n",
        "        \n",
        "        # Cumulative rewards\n",
        "        if t == 0:\n",
        "            c_payoff[t] = np.sum([Y[t, choice] for choice in arm_choice[t]])\n",
        "        else:\n",
        "            c_payoff[t]   = c_payoff[t-1] + np.sum([Y[t, choice] for choice in arm_choice[t]])\n",
        "        r_payoff[t] = np.sum([Y[t, choice] for choice in arm_choice[t]])\n",
        "        \n",
        "        cum_regret[t] = np.sum(oracle[0:t+1] - r_payoff[0:t+1])\n",
        "\n",
        "        #opt_payoff[t] = np.sum([Y[t, choice] for choice in true_choice[t]])\n",
        "        #selected_err[t] = selected_pred[t] - r_payoff[t]\n",
        "        #opt_err[t] = opt_pred[t] - opt_payoff[t]\n",
        "\n",
        "        mse_sel[t] = sum(np.square(pred_reward[t, a] - Y[t, a]) for a in chosen_arms)/m\n",
        "        mse_opt[t] = sum(np.square(pred_reward[t, a] - Y[t, a]) for a in true_choice[t])/m\n",
        "\n",
        "        if cum_regret[t] > min_cregret:\n",
        "            print('break at trial:', t, 'with cum_regret:', cum_regret[t])\n",
        "            break\n",
        "        if (t+1) % 10000 == 0:\n",
        "            print('TRIAL:',t,'DONE', '| cum_regret:', cum_regret[t])\n",
        "            # t_break = t\n",
        "        if t+1 == 30000:\n",
        "            t_break = n_trial\n",
        "            final_c_regret = cum_regret[t]\n",
        "        # show the selected arms every 100 iterations\n",
        "        # if (t+1) % 1000 == 0:\n",
        "        #     print('TRIAL:',t,'DONE', '| arm selected:', chosen_arms)\n",
        "\n",
        "    return dict(mse_sel=mse_sel, mse_opt=mse_opt, theta=theta, theta_lst=theta_lst, p=p, arm_choice = arm_choice, r_payoff=r_payoff, A=A, c_payoff=c_payoff, acc=acc, t_break=t_break, final_c_regret = final_c_regret, alpha = alpha, selected_err=selected_err, opt_err=opt_err)"
      ],
      "metadata": {
        "id": "7On18lBr8wly"
      },
      "execution_count": 10,
      "outputs": []
    },
    {
      "cell_type": "code",
      "source": [
        "\n",
        "# lda_lst\n",
        "lda_lst = [1] \n",
        "T = 0.5\n",
        "# set min_target_cregret\n",
        "min_target_cregret = 5000\n",
        "alpha = 888\n",
        "rec_alpha = 888\n",
        "rec_lda = 888\n",
        "for l in lda_lst:\n",
        "  # Create the F matrix\n",
        "  lda = l\n",
        "  test_adj = constructAdjMatrix(W, N_ARMS, T)\n",
        "  test_F = constructLaplacianMatrix(test_adj, N_ARMS, lda)\n",
        "  F_kron = np.kron(test_F, np.identity(n=N_FEATURE))\n",
        "  FInv_Init = sqrtm(np.linalg.inv(np.kron(test_F, np.identity(n=N_FEATURE))))\n",
        "\n",
        "  # Run GOB.Lin\n",
        "  print('---------------------------------------------------------------------------')\n",
        "  print('M:', M, 'lda:', lda, 'T', T)\n",
        "  results_dict = {}\n",
        "  alpha_to_test = [0.5,0.7]\n",
        "  for alpha in alpha_to_test:\n",
        "    results_dict[alpha] = GOBLin(min_cregret = min_target_cregret, alpha = alpha, eta = 0.3, X=X_1, Y=(-1 * Y_1 + 30).T, m=M, FInv=FInv_Init, oracle=oracle_case1, true_choice=true_choice)\n",
        "    if results_dict[alpha]['t_break'] == 30000:\n",
        "      if results_dict[alpha]['final_c_regret'] < min_target_cregret:\n",
        "        # min_target_cregret = results_dict[alpha]['final_c_regret']\n",
        "        rec_alpha = results_dict[alpha]['alpha']\n",
        "        rec_lda = l\n",
        "  print('M:', M, 'lda:', lda, 'T', T)\n",
        "  print('min cum regret:', min_target_cregret, 'alpha:', rec_alpha, 'lda:', rec_lda)\n",
        "  print('---------------------------------------------------------------------------')"
      ],
      "metadata": {
        "colab": {
          "base_uri": "https://localhost:8080/"
        },
        "id": "yubxwIl_Z1fn",
        "outputId": "7a5c9d3e-764a-42fd-ab9c-3f8907d5b87e"
      },
      "execution_count": 11,
      "outputs": [
        {
          "output_type": "stream",
          "name": "stdout",
          "text": [
            "---------------------------------------------------------------------------\n",
            "M: 33 lda: 1 T 0.5\n",
            "GOB.Lin with alpha:  0.5\n"
          ]
        },
        {
          "output_type": "stream",
          "name": "stderr",
          "text": [
            "/usr/local/lib/python3.7/dist-packages/ipykernel_launcher.py:42: ComplexWarning: Casting complex values to real discards the imaginary part\n",
            "/usr/local/lib/python3.7/dist-packages/ipykernel_launcher.py:43: ComplexWarning: Casting complex values to real discards the imaginary part\n",
            "/usr/local/lib/python3.7/dist-packages/ipykernel_launcher.py:62: ComplexWarning: Casting complex values to real discards the imaginary part\n"
          ]
        },
        {
          "output_type": "stream",
          "name": "stdout",
          "text": [
            "TRIAL: 9999 DONE | cum_regret: 2862.4235681387127\n",
            "TRIAL: 19999 DONE | cum_regret: 2916.0191404780394\n",
            "TRIAL: 29999 DONE | cum_regret: 2916.300797552593\n",
            "GOB.Lin with alpha:  0.7\n",
            "TRIAL: 9999 DONE | cum_regret: 2703.1650159685278\n",
            "TRIAL: 19999 DONE | cum_regret: 2936.8083025811216\n",
            "TRIAL: 29999 DONE | cum_regret: 2983.169599080728\n",
            "M: 33 lda: 1 T 0.5\n",
            "min cum regret: 5000 alpha: 0.7 lda: 1\n",
            "---------------------------------------------------------------------------\n"
          ]
        }
      ]
    },
    {
      "cell_type": "code",
      "execution_count": 12,
      "metadata": {
        "id": "GIRaMXDgQoqF",
        "colab": {
          "base_uri": "https://localhost:8080/",
          "height": 472
        },
        "outputId": "a7a16879-5c79-4808-fa55-6457118d6194"
      },
      "outputs": [
        {
          "output_type": "display_data",
          "data": {
            "text/plain": [
              "<Figure size 900x540 with 1 Axes>"
            ],
            "image/png": "[encoded data removed]"
          },
          "metadata": {
            "needs_background": "light"
          }
        }
      ],
      "source": [
        "# Plot regrets\n",
        "plt.figure(figsize=(12.5, 7.5))\n",
        "plot_regrets(results_dict, oracle_case1)\n",
        "# plt.plot(make_regret(payoff=payoff_random, oracle=oracle_case1), label = \"random\", linestyle='--')\n",
        "plt.legend()\n",
        "plt.title(\"Regrets for various levels of alpha\")\n",
        "plt.show()"
      ]
    },
    {
      "cell_type": "code",
      "source": [
        "plt.plot(results_dict[0.5]['mse_opt'])"
      ],
      "metadata": {
        "colab": {
          "base_uri": "https://localhost:8080/",
          "height": 282
        },
        "id": "JhwSgeWrqyRV",
        "outputId": "dbb4ed79-fccc-4f6e-c495-a13490277cd5"
      },
      "execution_count": 13,
      "outputs": [
        {
          "output_type": "execute_result",
          "data": {
            "text/plain": [
              "[<matplotlib.lines.Line2D at 0x7f90cd248d10>]"
            ]
          },
          "metadata": {},
          "execution_count": 13
        },
        {
          "output_type": "display_data",
          "data": {
            "text/plain": [
              "<Figure size 432x288 with 1 Axes>"
            ],
            "image/png": "[encoded data removed]"
          },
          "metadata": {
            "needs_background": "light"
          }
        }
      ]
    },
    {
      "cell_type": "code",
      "source": [
        "plt.plot(results_dict[0.7]['mse_opt'])"
      ],
      "metadata": {
        "colab": {
          "base_uri": "https://localhost:8080/",
          "height": 282
        },
        "id": "Dvp5dQACL0Lb",
        "outputId": "635dce00-b939-4460-8120-805874300d46"
      },
      "execution_count": 18,
      "outputs": [
        {
          "output_type": "execute_result",
          "data": {
            "text/plain": [
              "[<matplotlib.lines.Line2D at 0x7f90cd1a5d10>]"
            ]
          },
          "metadata": {},
          "execution_count": 18
        },
        {
          "output_type": "display_data",
          "data": {
            "text/plain": [
              "<Figure size 432x288 with 1 Axes>"
            ],
            "image/png": "[encoded data removed]"
          },
          "metadata": {
            "needs_background": "light"
          }
        }
      ]
    },
    {
      "cell_type": "code",
      "source": [
        "plt.plot(np.abs(results_dict[0.5]['mse_sel']))"
      ],
      "metadata": {
        "id": "5RP3uqgKq3I8",
        "colab": {
          "base_uri": "https://localhost:8080/",
          "height": 282
        },
        "outputId": "f2595bbf-881c-406f-b240-878891b7f019"
      },
      "execution_count": 14,
      "outputs": [
        {
          "output_type": "execute_result",
          "data": {
            "text/plain": [
              "[<matplotlib.lines.Line2D at 0x7f90cd1bdf10>]"
            ]
          },
          "metadata": {},
          "execution_count": 14
        },
        {
          "output_type": "display_data",
          "data": {
            "text/plain": [
              "<Figure size 432x288 with 1 Axes>"
            ],
            "image/png": "[encoded data removed]"
          },
          "metadata": {
            "needs_background": "light"
          }
        }
      ]
    },
    {
      "cell_type": "code",
      "source": [
        "plt.plot(results_dict[0.7]['mse_sel'])"
      ],
      "metadata": {
        "colab": {
          "base_uri": "https://localhost:8080/",
          "height": 282
        },
        "id": "62yxYoEnL3Cc",
        "outputId": "29f59427-2809-4fb6-f36b-fd8616b172b0"
      },
      "execution_count": 19,
      "outputs": [
        {
          "output_type": "execute_result",
          "data": {
            "text/plain": [
              "[<matplotlib.lines.Line2D at 0x7f90cd116590>]"
            ]
          },
          "metadata": {},
          "execution_count": 19
        },
        {
          "output_type": "display_data",
          "data": {
            "text/plain": [
              "<Figure size 432x288 with 1 Axes>"
            ],
            "image/png": "[encoded data removed]"
          },
          "metadata": {
            "needs_background": "light"
          }
        }
      ]
    },
    {
      "cell_type": "code",
      "execution_count": 15,
      "metadata": {
        "id": "hBZNAl7aogN5"
      },
      "outputs": [],
      "source": [
        "from google.colab import files\n",
        "# test_lst = [make_regret(payoff=x['r_payoff'], oracle=oracle_case1) for (alpha, x) in results_dict.items()]\n",
        "# df2 = pd.DataFrame(test_lst[0])\n",
        "# df2.to_csv('C1_GOBLin_regret_66_rsc2.csv', header=False)\n",
        "# files.download('C1_GOBLin_regret_66_rsc2.csv')"
      ]
    },
    {
      "cell_type": "code",
      "source": [
        "from google.colab import files\n",
        "# sel_err_lst = results_dict[0.25]['selected_err']\n",
        "# df_s = pd.DataFrame(sel_err_lst)\n",
        "# df_s.to_csv('C1_GOBLin_sel_err_66_rsc2.csv', header=False)\n",
        "# files.download('C1_GOBLin_sel_err_66_rsc2.csv')\n",
        "# opt_err_lst = results_dict[0.25]['opt_err']\n",
        "# df_o = pd.DataFrame(opt_err_lst)\n",
        "# df_o.to_csv('C1_GOBLin_opt_err_66_rsc2.csv', header=False)\n",
        "# files.download('C1_GOBLin_opt_err_66_rsc2.csv')"
      ],
      "metadata": {
        "id": "fwFwlcD41-EL"
      },
      "execution_count": 16,
      "outputs": []
    },
    {
      "cell_type": "code",
      "execution_count": 17,
      "metadata": {
        "id": "dTLVpSzg45Id"
      },
      "outputs": [],
      "source": [
        "# def GOBLin(alpha, eta, lda, X, Y, m, E):\n",
        "#     print(\"GOB.Lin with alpha: \", alpha)\n",
        "#     n_trial, n_arms, n_feature = X.shape\n",
        "    \n",
        "#     # 1.1.output object\n",
        "#     r_payoff = np.empty(n_trial)\n",
        "#     arm_choice = np.empty(shape=(n_trial, m), dtype=int)\n",
        "#     p = np.empty(shape=(n_trial, n_arms))\n",
        "#     acc = np.empty(shape=(n_trial, n_arms))\n",
        "# #     F = np.identity(n=n_arms) + lda * E\n",
        "# #     F_kron = np.kron(F, np.identity(n=n_feature))\n",
        "# #     FInv = sqrtm(np.linalg.inv(np.kron(F, np.identity(n=n_feature))))\n",
        "# #     F_sqrt = sqrtm(np.kron(F, np.identity(n=n_feature)))\n",
        "#     FInv = E\n",
        "#     # 1.2. A and b\n",
        "\n",
        "#     A = eta * np.identity(n = n_feature * n_arms)   #dn x dn\n",
        "#     b = np.zeros(shape=n_feature * n_arms)        #dn x 1\n",
        "#     inv_A = np.linalg.inv(A)\n",
        "#     theta_lst = np.empty(shape=(n_trial, n_arms *  n_feature))\n",
        "#     theta = np.dot(inv_A, b)\n",
        "    \n",
        "#     # 2. Algorithm\n",
        "#       # theta = w\n",
        "#       # A = M\n",
        "#       # b = b\n",
        "#       # p_t = k_t\n",
        "#     for t in np.arange(n_trial):\n",
        "        \n",
        "#         #Compute estimates (theta) and prediction (p) for all arms\n",
        "#         for a in np.arange(n_arms):\n",
        "#             X_1_tr = FInv.dot((X_to_X_m(X, t, [a], n_arms, n_feature)).flatten())\n",
        "#             p[t, a] = theta.dot(X_1_tr) + alpha * np.sqrt(np.dot(np.dot(X_1_tr, inv_A), X_1_tr)) #.clip(0))\n",
        "#             acc[t, a]   = p[t, a] - Y[t, a]\n",
        "#         # Choose m best arms\n",
        "# #         idx = np.argpartition(p[t], -m)[-m:]\n",
        "# #         chosen_arms = idx[np.argsort((-p[t])[idx])]\n",
        "#         idx = np.argpartition(p[t], -m)[-m:]\n",
        "#         chosen_arms = idx[np.argsort(-(p[t])[idx])]\n",
        "# #         chosen_arms = p[t].argsort()[-m:][::-1]\n",
        "#         for i in np.arange(m):\n",
        "#           arm_choice[t][i] = chosen_arms[i]\n",
        "        \n",
        "#         #update A and b\n",
        "#         for chosen_arm in arm_choice[t]:\n",
        "#           X_1_tr_chosen = FInv.dot((X_to_X_m(X_1, t, [chosen_arm], n_arms, n_feature)).flatten())\n",
        "#           A = A + np.outer(X_1_tr_chosen, X_1_tr_chosen)\n",
        "#           b = b + Y[t, chosen_arm] * X_1_tr_chosen\n",
        "#         inv_A = np.linalg.inv(A)\n",
        "#         theta = inv_A.dot(b)\n",
        "#         theta_lst[t] = theta\n",
        "#         r_payoff[t]   = np.sum([Y[t, choice] for choice in arm_choice[t]])\n",
        "        \n",
        "#         # show the selected arms every 3000 iterations\n",
        "#         if t % 3000 == 0:\n",
        "#             print('TRIAL:',t,'DONE', '| arm selected:', chosen_arms)\n",
        "# #         print('TRIAL:',t,'DONE', '| arm selected:', chosen_arms)\n",
        "#     return dict(theta=theta, theta_lst=theta_lst, p=p, arm_choice = arm_choice, r_payoff=r_payoff, A=A, acc=acc)"
      ]
    }
  ],
  "metadata": {
    "colab": {
      "provenance": []
    },
    "kernelspec": {
      "display_name": "Python 3 (ipykernel)",
      "language": "python",
      "name": "python3"
    },
    "language_info": {
      "codemirror_mode": {
        "name": "ipython",
        "version": 3
      },
      "file_extension": ".py",
      "mimetype": "text/x-python",
      "name": "python",
      "nbconvert_exporter": "python",
      "pygments_lexer": "ipython3",
      "version": "3.7.4"
    }
  },
  "nbformat": 4,
  "nbformat_minor": 0
}