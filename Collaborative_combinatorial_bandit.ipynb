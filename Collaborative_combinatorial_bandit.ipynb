{
 "cells": [
  {
   "cell_type": "code",
   "execution_count": 1,
   "metadata": {
    "id": "SOcz7W1h-Wyz"
   },
   "outputs": [],
   "source": [
    "import numpy as np\n",
    "import pandas as pd\n",
    "import matplotlib.pyplot as plt\n",
    "import seaborn as sns\n",
    "from scipy.linalg import block_diag\n",
    "from numpy.linalg import multi_dot\n",
    "from scipy.linalg import sqrtm\n",
    "import os"
   ]
  },
  {
   "cell_type": "code",
   "execution_count": 2,
   "metadata": {
    "id": "G7aA1kJx-rXQ"
   },
   "outputs": [],
   "source": [
    "N_TRIAL = 6000\n",
    "N_ARMS = 100\n",
    "K = 3\n",
    "N_FEATURE = 3\n",
    "M = 4"
   ]
  },
  {
   "cell_type": "code",
   "execution_count": 3,
   "metadata": {
    "colab": {
     "base_uri": "https://localhost:8080/"
    },
    "id": "8GwkTAHRSg1S",
    "outputId": "1733472f-2ad0-4d47-b17c-2e6969d31c80"
   },
   "outputs": [],
   "source": [
    "Beta = np.genfromtxt('Beta.csv',delimiter=',')\n",
    "X_1 = np.genfromtxt('X.csv',delimiter=',')\n",
    "Y_1 = np.genfromtxt('Y.csv',delimiter=',')\n",
    "E = np.genfromtxt('E.csv',delimiter=',')\n",
    "\n",
    "# Q = np.genfromtxt('Q.csv',delimiter=',')\n",
    "# C = np.genfromtxt('C.csv',delimiter=',')\n",
    "# W = np.genfromtxt('W.csv',delimiter=',') #E\n",
    "# E2 = np.genfromtxt('E(100).csv',delimiter=',')"
   ]
  },
  {
   "cell_type": "code",
   "execution_count": 4,
   "metadata": {},
   "outputs": [],
   "source": [
    "# Initialize q and C\n",
    "# vec_q: q (Kp x 1)\n",
    "np.random.seed(3)\n",
    "vec_q = np.array([np.random.rand() for _ in range(K * N_FEATURE)])\n",
    "\n",
    "# vec_C: C (NK x 1)\n",
    "np.random.seed(42)\n",
    "norm_C = []\n",
    "for t in range(N_ARMS):\n",
    "    vector = np.array([np.random.rand() for _ in range(K)])\n",
    "    for i in range(len(vector)):\n",
    "        norm_C.append(vector[i] / sum(vector))\n",
    "vec_C = np.array(norm_C)"
   ]
  },
  {
   "cell_type": "code",
   "execution_count": 5,
   "metadata": {},
   "outputs": [],
   "source": [
    "# c normalization\n",
    "def normalize_c(C, n_arms, K):\n",
    "    vectorNormalized = []\n",
    "    matrix_c = C.reshape(n_arms, K)\n",
    "    for t in range(N_ARMS):\n",
    "        if sum(matrix_c[t]) == 0:\n",
    "            for i in range(len(matrix_c[t])):\n",
    "                vectorNormalized.append(matrix_c[t, i])\n",
    "        else:\n",
    "            for i in range(len(matrix_c[t])):\n",
    "                vectorNormalized.append(matrix_c[t, i] / sum(matrix_c[t]))\n",
    "    return np.array(vectorNormalized)\n",
    "\n",
    "# truncate negative elements/ shifting negative elements to 0\n",
    "# def zeroed(arr):\n",
    "#     return arr.clip(min=0)\n",
    "\n",
    "# def shifted(arr):\n",
    "#     return arr + abs(np.min(arr))"
   ]
  },
  {
   "cell_type": "code",
   "execution_count": 6,
   "metadata": {
    "id": "PpPhWIWkDgji"
   },
   "outputs": [],
   "source": [
    "# X transformation from a sparse matrix\n",
    "def X_reshape(X, X_tr, t, K, n_arms, n_feature):  #\n",
    "  for arm in range(1, n_arms):\n",
    "    X_tr = np.concatenate((X_tr,np.kron(np.identity(n = K),X[arm].reshape(-1,1))), axis = 1)\n",
    "  return X_tr\n",
    "\n",
    "# convert to a sparse matrix\n",
    "def X_to_X_m(X, t, arm_choice, n_arms, n_feature):\n",
    "  X_m = np.copy(X[t])\n",
    "  for arm in np.arange(n_arms): # N x p\n",
    "    if arm not in arm_choice:\n",
    "      X_m[arm] = np.zeros(shape=n_feature)\n",
    "  return X_m"
   ]
  },
  {
   "cell_type": "code",
   "execution_count": 7,
   "metadata": {
    "id": "jYnR5QXctM2z"
   },
   "outputs": [],
   "source": [
    "def make_regret(payoff, oracle):\n",
    "    return np.cumsum(oracle - payoff)\n",
    "def plot_regrets(results, oracle):\n",
    "    [plt.plot(make_regret(payoff=x['r_payoff'], oracle=oracle), label=\"alpha: \"+str(alpha)) for (alpha, x) in results.items()]"
   ]
  },
  {
   "cell_type": "code",
   "execution_count": 8,
   "metadata": {},
   "outputs": [],
   "source": [
    "def make_l2_norm_diff(l2_norm, t_l2_norm, arm_choice):\n",
    "    diff = []\n",
    "    for t in range(len(l2_norm)):\n",
    "        diff_t = np.sum([t_l2_norm[choice] for choice in arm_choice[t]]) - l2_norm[t] \n",
    "        diff.append(diff_t)\n",
    "    return np.array(diff)\n",
    "def plot_l2_norm_diff(results, t_l2_norm):\n",
    "    [plt.plot(make_l2_norm_diff(x['l2_norm'], t_l2_norm, x['arm_choice']), label=\"alpha: \"+str(alpha)) for (alpha, x) in results.items()]"
   ]
  },
  {
   "cell_type": "code",
   "execution_count": 9,
   "metadata": {
    "id": "dTLVpSzg45Id"
   },
   "outputs": [],
   "source": [
    "#eta_1, eta_2, lambda = tuning param.\n",
    "#alpha_q, alpha_c = upper bound for q and C\n",
    "#X = feature matrix\n",
    "#Y = true reward matrix\n",
    "#E = laplacian matrix\n",
    "#m = number of selected arms\n",
    "#K = number of latent structures\n",
    "\n",
    "def CoCoUCB(eta_1, eta_2, alpha_q, alpha_c, lda, X, Y, init_q, init_c, m, K, E, X_to_X_m, X_reshape):\n",
    "    print(\"CoCoUCB with eta_1:\", eta_1, \"eta_2:\", eta_2, \"alpha_q:\", alpha_q, \"alpha_c:\", alpha_c)\n",
    "    n_trial, n_arms, n_feature = X.shape\n",
    "    #n_arms = N | n_trial = t | n_features = p | K\n",
    "\n",
    "    # 1. Initialize objects\n",
    "    # 1.1. Output objects                     \n",
    "    arm_choice = np.empty(shape=(n_trial, m), dtype=int)\n",
    "    r_payoff = np.empty(n_trial)                                  \n",
    "    p = np.empty(shape=(n_trial, n_arms))                         \n",
    "    \n",
    "    # 1.2. F calculation\n",
    "\n",
    "    F = np.diag(np.ones(shape=n_arms)) + lda * E\n",
    "    F_kron = np.kron(F, np.diag(np.ones(shape=K)))\n",
    "    FInv = sqrtm(np.linalg.inv(np.kron(F, np.identity(n=K))))\n",
    "    F_sqrt = sqrtm(np.kron(F, np.identity(n=K)))\n",
    "    \n",
    "    # 1.3. Intialize q and C_tilde\n",
    "    q = np.empty(shape = (n_trial + 1, K * n_feature)) #Kp x 1\n",
    "    C_tilde = np.empty(shape = (n_trial + 1, n_arms * K)) #NK x 1\n",
    "    q[0] = init_q\n",
    "    C_tilde[0] = init_c\n",
    "    \n",
    "    # 1.4. A, b, D, d\n",
    "    A = eta_1 * np.identity(n = K * n_feature) #Kp x Kp\n",
    "    b = np.zeros(shape=K * n_feature)         #Kp x 1\n",
    "    D = eta_2 * np.identity(n = n_arms * K) #NK x NK\n",
    "    d = np.zeros(shape=n_arms * K)         #NK x 1\n",
    "    inv_A = np.linalg.inv(A)\n",
    "    inv_D = np.linalg.inv(D)\n",
    "    \n",
    "    # 2. Algorithm\n",
    "    for t in np.arange(n_trial):\n",
    "#         print('trial:',t, 'C_tilde:', C_tilde[t])\n",
    "        for a in np.arange(n_arms):\n",
    "          #X transformations\n",
    "          X_temp = X_to_X_m(X, t, [a], n_arms, n_feature)\n",
    "          X_tr_init = np.kron(np.identity(n = K),X_temp[0].reshape(-1,1))\n",
    "          X_tr = X_reshape(X_temp, X_tr_init, t, K, n_arms, n_feature) #Kp x NK\n",
    "          #Calculate cb_q and cb_c\n",
    "          X_q_a = C_tilde[t].dot(X_tr.T)\n",
    "          cb_q = alpha_q * np.sqrt(X_q_a.T.dot(inv_A).dot(X_q_a))\n",
    "          X_c = (X_tr.dot(FInv)).T.dot(q[t])\n",
    "          cb_c = alpha_c * np.sqrt((X_c).T.dot(inv_D).dot(X_c)) #.clip(0)\n",
    "          #Predictions\n",
    "          p[t, a] = (C_tilde[t].T).dot(X_tr.T).dot(q[t]) + cb_q + cb_c\n",
    "\n",
    "        # Choose m best arms\n",
    "        idx = np.argpartition(p[t], -m)[-m:]\n",
    "        chosen_arms = idx[np.argsort((-p[t])[idx])] #choose m arms that give highest p\n",
    "        for i in np.arange(m):\n",
    "          arm_choice[t][i] = chosen_arms[i]\n",
    "        \n",
    "        #Update intermediate objects (A, b, D, d)\n",
    "        for chosen_arm in arm_choice[t]:\n",
    "          #X transformations\n",
    "          X_tr_chosen_temp = X_to_X_m(X_1, t, [chosen_arm], n_arms, n_feature)\n",
    "          X_tr_init_cs = np.kron(np.identity(n = K),X_tr_chosen_temp[0].reshape(-1,1))\n",
    "          X_1_tr_chosen =  X_reshape(X_tr_chosen_temp, X_tr_init_cs, t, K, n_arms, n_feature)\n",
    "          X_q = C_tilde[t].dot(X_1_tr_chosen.T) # need diff transformation for X_q?\n",
    "          X_C_Tilde = (FInv.T).dot(X_1_tr_chosen.T.dot(q[t]))\n",
    "          A = A + np.outer(X_q, X_q)\n",
    "          b = b + Y[t, chosen_arm] * X_q\n",
    "          D = D + np.outer(X_C_Tilde, X_C_Tilde)           \n",
    "          d = d + Y[t, chosen_arm] * X_C_Tilde\n",
    "        inv_A = np.linalg.inv(A)\n",
    "        inv_D = np.linalg.inv(D)\n",
    "        q[t + 1] = inv_A.dot(b)\n",
    "#         C_temp = np.abs(inv_D.dot(d)) # np.abs() --> truncating or shifting instead\n",
    "        C_temp = ((inv_D.dot(d)).clip(0))\n",
    "        C_tilde[t + 1] = normalize_c(C_temp, n_arms, K) #normalize\n",
    "        r_payoff[t]   = np.sum([Y[t, choice] for choice in arm_choice[t]])\n",
    "        \n",
    "        if t % 500 == 0:\n",
    "            print('TRIAL:',t,'DONE', '| arm selected:', chosen_arms)\n",
    "    return dict(q = q, C_tilde = C_tilde, p = p, arm_choice = arm_choice, r_payoff = r_payoff)"
   ]
  },
  {
   "cell_type": "code",
   "execution_count": 10,
   "metadata": {
    "id": "oVuK0D6fTkT5"
   },
   "outputs": [],
   "source": [
    "#create X_{it} = [1,t, t^2]\n",
    "X_1_lst = []\n",
    "for T in np.arange(N_TRIAL):\n",
    "  X_1t_lst = []\n",
    "  for arm in np.arange(N_ARMS):\n",
    "    temp = []\n",
    "    temp.append(1)\n",
    "    temp.append(0.001*(T+1))\n",
    "    temp.append((0.001*(T+1))**2)\n",
    "    X_1t_lst.append(np.array(temp))\n",
    "    # np.append(X_1, X_1t)\n",
    "  X_1_lst.append(np.array(X_1t_lst))\n",
    "X_1 = np.array(X_1_lst)"
   ]
  },
  {
   "cell_type": "code",
   "execution_count": 11,
   "metadata": {
    "id": "DeVmUAgc5Gst"
   },
   "outputs": [],
   "source": [
    "# True M highest rewards  \n",
    "oracle_lst = []\n",
    "for t in np.arange(N_TRIAL):\n",
    "  # Find indices of M highest arms\n",
    "  all_reward_t = [Y_1.T[t, arm] for arm in np.arange(N_ARMS)]\n",
    "  idx = np.argpartition(all_reward_t, -M)[-M:]\n",
    "  chosen_arms = idx[np.argsort((-np.array(all_reward_t))[idx])]\n",
    "  # Sum of M highest rewards\n",
    "  oracle_payoff_t = np.sum([Y_1.T[t, choice] for choice in chosen_arms])\n",
    "  # Append to the list\n",
    "  oracle_lst.append(oracle_payoff_t)\n",
    "#   print(chosen_arms)\n",
    "oracle_case1 = np.array(oracle_lst)"
   ]
  },
  {
   "cell_type": "code",
   "execution_count": 12,
   "metadata": {
    "colab": {
     "base_uri": "https://localhost:8080/"
    },
    "id": "-jkBZ0zI5KS4",
    "outputId": "344ecdf3-3f84-4094-fab2-5cabe152d6b6"
   },
   "outputs": [
    {
     "name": "stdout",
     "output_type": "stream",
     "text": [
      "CoCoUCB with eta_1: 0.3 eta_2: 0.3 alpha_q: 20 alpha_c: 0\n"
     ]
    },
    {
     "name": "stderr",
     "output_type": "stream",
     "text": [
      "C:\\Users\\ARTY\\Anaconda3\\lib\\site-packages\\ipykernel_launcher.py:57: ComplexWarning: Casting complex values to real discards the imaginary part\n",
      "C:\\Users\\ARTY\\Anaconda3\\lib\\site-packages\\ipykernel_launcher.py:83: ComplexWarning: Casting complex values to real discards the imaginary part\n"
     ]
    },
    {
     "name": "stdout",
     "output_type": "stream",
     "text": [
      "TRIAL: 0 DONE | arm selected: [68 33 69 22]\n",
      "TRIAL: 500 DONE | arm selected: [19 11 89 48]\n",
      "TRIAL: 1000 DONE | arm selected: [89 73 79 19]\n",
      "TRIAL: 1500 DONE | arm selected: [39 73 79  9]\n",
      "TRIAL: 2000 DONE | arm selected: [39 23 17  9]\n",
      "TRIAL: 2500 DONE | arm selected: [60 11 19 85]\n",
      "TRIAL: 3000 DONE | arm selected: [19 11 60 85]\n",
      "TRIAL: 3500 DONE | arm selected: [19 11 60 85]\n",
      "TRIAL: 4000 DONE | arm selected: [19 11 71 85]\n",
      "TRIAL: 4500 DONE | arm selected: [19 11 71  9]\n",
      "TRIAL: 5000 DONE | arm selected: [19 71 11  9]\n",
      "TRIAL: 5500 DONE | arm selected: [19 71 11 85]\n",
      "CoCoUCB with eta_1: 0.3 eta_2: 0.3 alpha_q: 20 alpha_c: 1\n",
      "TRIAL: 0 DONE | arm selected: [68 33 69 22]\n",
      "TRIAL: 500 DONE | arm selected: [89 59  8 55]\n",
      "TRIAL: 1000 DONE | arm selected: [82  4  1 75]\n",
      "TRIAL: 1500 DONE | arm selected: [54 59 60  8]\n",
      "TRIAL: 2000 DONE | arm selected: [35 26 24 89]\n",
      "TRIAL: 2500 DONE | arm selected: [35 26 38 54]\n",
      "TRIAL: 3000 DONE | arm selected: [38 35 54 44]\n",
      "TRIAL: 3500 DONE | arm selected: [38 35 54 44]\n",
      "TRIAL: 4000 DONE | arm selected: [38 35 54 44]\n",
      "TRIAL: 4500 DONE | arm selected: [38 35 54 44]\n",
      "TRIAL: 5000 DONE | arm selected: [38 35 44 54]\n",
      "TRIAL: 5500 DONE | arm selected: [44 38 35 42]\n",
      "CoCoUCB with eta_1: 0.3 eta_2: 0.3 alpha_q: 20 alpha_c: 2.5\n",
      "TRIAL: 0 DONE | arm selected: [68 33 69 22]\n",
      "TRIAL: 500 DONE | arm selected: [15 11 76 63]\n",
      "TRIAL: 1000 DONE | arm selected: [23 22 54 47]\n",
      "TRIAL: 1500 DONE | arm selected: [31 40 89 18]\n",
      "TRIAL: 2000 DONE | arm selected: [76 86  3 32]\n",
      "TRIAL: 2500 DONE | arm selected: [29 33  7 26]\n",
      "TRIAL: 3000 DONE | arm selected: [75  4 59 66]\n",
      "TRIAL: 3500 DONE | arm selected: [83  7 55 60]\n",
      "TRIAL: 4000 DONE | arm selected: [82  7 32 86]\n",
      "TRIAL: 4500 DONE | arm selected: [82 86 76 32]\n",
      "TRIAL: 5000 DONE | arm selected: [ 7 82 32  1]\n",
      "TRIAL: 5500 DONE | arm selected: [32 24 45 13]\n",
      "CoCoUCB with eta_1: 0.3 eta_2: 0.3 alpha_q: 20 alpha_c: 5\n",
      "TRIAL: 0 DONE | arm selected: [68 33 69 22]\n",
      "TRIAL: 500 DONE | arm selected: [31 99 71 75]\n",
      "TRIAL: 1000 DONE | arm selected: [49 59 89 28]\n",
      "TRIAL: 1500 DONE | arm selected: [68 49 59  9]\n",
      "TRIAL: 2000 DONE | arm selected: [20 70 88 24]\n",
      "TRIAL: 2500 DONE | arm selected: [80  7 93 44]\n",
      "TRIAL: 3000 DONE | arm selected: [70 20 81 11]\n",
      "TRIAL: 3500 DONE | arm selected: [35 20 73 11]\n",
      "TRIAL: 4000 DONE | arm selected: [80 11  7 40]\n",
      "TRIAL: 4500 DONE | arm selected: [80 11 45 18]\n",
      "TRIAL: 5000 DONE | arm selected: [80 45 35 11]\n",
      "TRIAL: 5500 DONE | arm selected: [35 80 45 11]\n",
      "CoCoUCB with eta_1: 0.3 eta_2: 0.3 alpha_q: 20 alpha_c: 10\n",
      "TRIAL: 0 DONE | arm selected: [68 33 69 22]\n",
      "TRIAL: 500 DONE | arm selected: [34 39  1 14]\n",
      "TRIAL: 1000 DONE | arm selected: [17 22  3 39]\n",
      "TRIAL: 1500 DONE | arm selected: [99 71 59 55]\n",
      "TRIAL: 2000 DONE | arm selected: [60 33 67 89]\n",
      "TRIAL: 2500 DONE | arm selected: [67 89 60 33]\n",
      "TRIAL: 3000 DONE | arm selected: [60 67 33 89]\n",
      "TRIAL: 3500 DONE | arm selected: [60 33 67 97]\n",
      "TRIAL: 4000 DONE | arm selected: [31 60 33 67]\n",
      "TRIAL: 4500 DONE | arm selected: [72 21 49 98]\n",
      "TRIAL: 5000 DONE | arm selected: [ 9 26 31 60]\n",
      "TRIAL: 5500 DONE | arm selected: [31 60 33 67]\n",
      "CoCoUCB with eta_1: 0.3 eta_2: 0.3 alpha_q: 20 alpha_c: 20\n",
      "TRIAL: 0 DONE | arm selected: [68 33 69 22]\n",
      "TRIAL: 500 DONE | arm selected: [63  3 35 24]\n",
      "TRIAL: 1000 DONE | arm selected: [55 86 91 40]\n",
      "TRIAL: 1500 DONE | arm selected: [57 82 71 68]\n",
      "TRIAL: 2000 DONE | arm selected: [57 32 49 99]\n",
      "TRIAL: 2500 DONE | arm selected: [54 73 28 44]\n",
      "TRIAL: 3000 DONE | arm selected: [13 34 92 59]\n",
      "TRIAL: 3500 DONE | arm selected: [10 86 57 40]\n",
      "TRIAL: 4000 DONE | arm selected: [40 10 86 32]\n",
      "TRIAL: 4500 DONE | arm selected: [34 86 10 32]\n",
      "TRIAL: 5000 DONE | arm selected: [70 34 81 24]\n",
      "TRIAL: 5500 DONE | arm selected: [63 24 73 68]\n"
     ]
    }
   ],
   "source": [
    "alpha_to_test = [0, 1, 2.5, 5, 10, 20]\n",
    "# alpha_to_test = [0, 1, 2.5, 5, 10, 20]\n",
    "results_dict = {alpha: CoCoUCB(eta_1 = 0.3, eta_2 = 0.3, alpha_q = 20, alpha_c = alpha, lda = 10, X=X_1, Y=Y_1.T, init_q=vec_q, init_c=vec_C,m=M, K = K, E=E, X_to_X_m=X_to_X_m, X_reshape=X_reshape)\\\n",
    "                for alpha in alpha_to_test}"
   ]
  },
  {
   "cell_type": "code",
   "execution_count": 13,
   "metadata": {
    "colab": {
     "base_uri": "https://localhost:8080/",
     "height": 472
    },
    "id": "d1PvUTtt6J-P",
    "outputId": "7a23108d-284d-439a-da2c-bb3bcc308274"
   },
   "outputs": [
    {
     "data": {
      "image/png": "[encoded data removed]",
      "text/plain": [
       "<Figure size 900x540 with 1 Axes>"
      ]
     },
     "metadata": {
      "needs_background": "light"
     },
     "output_type": "display_data"
    }
   ],
   "source": [
    "plt.figure(figsize=(12.5, 7.5))\n",
    "plot_regrets(results_dict, oracle_case1)\n",
    "# plt.plot(make_regret(payoff=payoff_random, oracle=oracle_case1), label = \"random\", linestyle='--')\n",
    "plt.legend()\n",
    "plt.title(\"Regrets for various levels of alpha\")\n",
    "plt.show()"
   ]
  },
  {
   "cell_type": "code",
   "execution_count": 14,
   "metadata": {},
   "outputs": [],
   "source": [
    "# Plot l2-difference\n",
    "#True Beta\n",
    "Beta_reshape = Beta.T\n",
    "# t_l2_norm_lst = []\n",
    "# for i in range (N_ARMS):\n",
    "#     t_l2_norm_lst.append(np.linalg.norm(Beta_reshape[i], ord=2))\n",
    "# t_l2_norm = np.array(t_l2_norm_lst)"
   ]
  }
 ],
 "metadata": {
  "colab": {
   "collapsed_sections": [],
   "name": "Collaborative combinatorial bandit (test3 init).ipynb",
   "provenance": []
  },
  "kernelspec": {
   "display_name": "Python 3",
   "language": "python",
   "name": "python3"
  },
  "language_info": {
   "codemirror_mode": {
    "name": "ipython",
    "version": 3
   },
   "file_extension": ".py",
   "mimetype": "text/x-python",
   "name": "python",
   "nbconvert_exporter": "python",
   "pygments_lexer": "ipython3",
   "version": "3.7.4"
  }
 },
 "nbformat": 4,
 "nbformat_minor": 4
}
